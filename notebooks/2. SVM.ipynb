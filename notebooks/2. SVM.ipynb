{
 "cells": [
  {
   "cell_type": "markdown",
   "metadata": {},
   "source": [
    "# 2. SVM"
   ]
  },
  {
   "cell_type": "code",
   "execution_count": 1,
   "metadata": {},
   "outputs": [],
   "source": [
    "import numpy as np\n",
    "import pandas as pd\n",
    "\n",
    "from sklearn import svm, metrics\n",
    "from sklearn.model_selection import StratifiedKFold"
   ]
  },
  {
   "cell_type": "markdown",
   "metadata": {},
   "source": [
    "## 2.1 Open the dataset"
   ]
  },
  {
   "cell_type": "code",
   "execution_count": 2,
   "metadata": {},
   "outputs": [],
   "source": [
    "BASE_DIR = '..'\n",
    "DATA_DIR = f'{BASE_DIR}/data'"
   ]
  },
  {
   "cell_type": "code",
   "execution_count": 3,
   "metadata": {},
   "outputs": [],
   "source": [
    "sample_df = pd.read_csv(f'{DATA_DIR}/sample.csv')"
   ]
  },
  {
   "cell_type": "code",
   "execution_count": 4,
   "metadata": {},
   "outputs": [
    {
     "data": {
      "text/html": [
       "<div>\n",
       "<style scoped>\n",
       "    .dataframe tbody tr th:only-of-type {\n",
       "        vertical-align: middle;\n",
       "    }\n",
       "\n",
       "    .dataframe tbody tr th {\n",
       "        vertical-align: top;\n",
       "    }\n",
       "\n",
       "    .dataframe thead th {\n",
       "        text-align: right;\n",
       "    }\n",
       "</style>\n",
       "<table border=\"1\" class=\"dataframe\">\n",
       "  <thead>\n",
       "    <tr style=\"text-align: right;\">\n",
       "      <th></th>\n",
       "      <th>pixel_0</th>\n",
       "      <th>pixel_1</th>\n",
       "      <th>pixel_2</th>\n",
       "      <th>pixel_3</th>\n",
       "      <th>pixel_4</th>\n",
       "      <th>pixel_5</th>\n",
       "      <th>pixel_6</th>\n",
       "      <th>pixel_7</th>\n",
       "      <th>pixel_8</th>\n",
       "      <th>pixel_9</th>\n",
       "      <th>...</th>\n",
       "      <th>pixel_775</th>\n",
       "      <th>pixel_776</th>\n",
       "      <th>pixel_777</th>\n",
       "      <th>pixel_778</th>\n",
       "      <th>pixel_779</th>\n",
       "      <th>pixel_780</th>\n",
       "      <th>pixel_781</th>\n",
       "      <th>pixel_782</th>\n",
       "      <th>pixel_783</th>\n",
       "      <th>target</th>\n",
       "    </tr>\n",
       "  </thead>\n",
       "  <tbody>\n",
       "    <tr>\n",
       "      <th>0</th>\n",
       "      <td>0.0</td>\n",
       "      <td>0.0</td>\n",
       "      <td>0.0</td>\n",
       "      <td>0.0</td>\n",
       "      <td>0.0</td>\n",
       "      <td>0.0</td>\n",
       "      <td>0.0</td>\n",
       "      <td>0.0</td>\n",
       "      <td>0.0</td>\n",
       "      <td>0.0</td>\n",
       "      <td>...</td>\n",
       "      <td>0.0</td>\n",
       "      <td>0.0</td>\n",
       "      <td>0.0</td>\n",
       "      <td>0.0</td>\n",
       "      <td>0.0</td>\n",
       "      <td>0.0</td>\n",
       "      <td>0.0</td>\n",
       "      <td>0.0</td>\n",
       "      <td>0.0</td>\n",
       "      <td>8.0</td>\n",
       "    </tr>\n",
       "    <tr>\n",
       "      <th>1</th>\n",
       "      <td>0.0</td>\n",
       "      <td>0.0</td>\n",
       "      <td>0.0</td>\n",
       "      <td>0.0</td>\n",
       "      <td>0.0</td>\n",
       "      <td>0.0</td>\n",
       "      <td>0.0</td>\n",
       "      <td>0.0</td>\n",
       "      <td>0.0</td>\n",
       "      <td>0.0</td>\n",
       "      <td>...</td>\n",
       "      <td>0.0</td>\n",
       "      <td>0.0</td>\n",
       "      <td>0.0</td>\n",
       "      <td>0.0</td>\n",
       "      <td>0.0</td>\n",
       "      <td>0.0</td>\n",
       "      <td>0.0</td>\n",
       "      <td>0.0</td>\n",
       "      <td>0.0</td>\n",
       "      <td>4.0</td>\n",
       "    </tr>\n",
       "    <tr>\n",
       "      <th>2</th>\n",
       "      <td>0.0</td>\n",
       "      <td>0.0</td>\n",
       "      <td>0.0</td>\n",
       "      <td>0.0</td>\n",
       "      <td>0.0</td>\n",
       "      <td>0.0</td>\n",
       "      <td>0.0</td>\n",
       "      <td>0.0</td>\n",
       "      <td>0.0</td>\n",
       "      <td>0.0</td>\n",
       "      <td>...</td>\n",
       "      <td>0.0</td>\n",
       "      <td>0.0</td>\n",
       "      <td>0.0</td>\n",
       "      <td>0.0</td>\n",
       "      <td>0.0</td>\n",
       "      <td>0.0</td>\n",
       "      <td>0.0</td>\n",
       "      <td>0.0</td>\n",
       "      <td>0.0</td>\n",
       "      <td>8.0</td>\n",
       "    </tr>\n",
       "    <tr>\n",
       "      <th>3</th>\n",
       "      <td>0.0</td>\n",
       "      <td>0.0</td>\n",
       "      <td>0.0</td>\n",
       "      <td>0.0</td>\n",
       "      <td>0.0</td>\n",
       "      <td>0.0</td>\n",
       "      <td>0.0</td>\n",
       "      <td>0.0</td>\n",
       "      <td>0.0</td>\n",
       "      <td>0.0</td>\n",
       "      <td>...</td>\n",
       "      <td>0.0</td>\n",
       "      <td>0.0</td>\n",
       "      <td>0.0</td>\n",
       "      <td>0.0</td>\n",
       "      <td>0.0</td>\n",
       "      <td>0.0</td>\n",
       "      <td>0.0</td>\n",
       "      <td>0.0</td>\n",
       "      <td>0.0</td>\n",
       "      <td>7.0</td>\n",
       "    </tr>\n",
       "    <tr>\n",
       "      <th>4</th>\n",
       "      <td>0.0</td>\n",
       "      <td>0.0</td>\n",
       "      <td>0.0</td>\n",
       "      <td>0.0</td>\n",
       "      <td>0.0</td>\n",
       "      <td>0.0</td>\n",
       "      <td>0.0</td>\n",
       "      <td>0.0</td>\n",
       "      <td>0.0</td>\n",
       "      <td>0.0</td>\n",
       "      <td>...</td>\n",
       "      <td>0.0</td>\n",
       "      <td>0.0</td>\n",
       "      <td>0.0</td>\n",
       "      <td>0.0</td>\n",
       "      <td>0.0</td>\n",
       "      <td>0.0</td>\n",
       "      <td>0.0</td>\n",
       "      <td>0.0</td>\n",
       "      <td>0.0</td>\n",
       "      <td>7.0</td>\n",
       "    </tr>\n",
       "  </tbody>\n",
       "</table>\n",
       "<p>5 rows × 785 columns</p>\n",
       "</div>"
      ],
      "text/plain": [
       "   pixel_0  pixel_1  pixel_2  pixel_3  pixel_4  pixel_5  pixel_6  pixel_7  \\\n",
       "0      0.0      0.0      0.0      0.0      0.0      0.0      0.0      0.0   \n",
       "1      0.0      0.0      0.0      0.0      0.0      0.0      0.0      0.0   \n",
       "2      0.0      0.0      0.0      0.0      0.0      0.0      0.0      0.0   \n",
       "3      0.0      0.0      0.0      0.0      0.0      0.0      0.0      0.0   \n",
       "4      0.0      0.0      0.0      0.0      0.0      0.0      0.0      0.0   \n",
       "\n",
       "   pixel_8  pixel_9   ...    pixel_775  pixel_776  pixel_777  pixel_778  \\\n",
       "0      0.0      0.0   ...          0.0        0.0        0.0        0.0   \n",
       "1      0.0      0.0   ...          0.0        0.0        0.0        0.0   \n",
       "2      0.0      0.0   ...          0.0        0.0        0.0        0.0   \n",
       "3      0.0      0.0   ...          0.0        0.0        0.0        0.0   \n",
       "4      0.0      0.0   ...          0.0        0.0        0.0        0.0   \n",
       "\n",
       "   pixel_779  pixel_780  pixel_781  pixel_782  pixel_783  target  \n",
       "0        0.0        0.0        0.0        0.0        0.0     8.0  \n",
       "1        0.0        0.0        0.0        0.0        0.0     4.0  \n",
       "2        0.0        0.0        0.0        0.0        0.0     8.0  \n",
       "3        0.0        0.0        0.0        0.0        0.0     7.0  \n",
       "4        0.0        0.0        0.0        0.0        0.0     7.0  \n",
       "\n",
       "[5 rows x 785 columns]"
      ]
     },
     "execution_count": 4,
     "metadata": {},
     "output_type": "execute_result"
    }
   ],
   "source": [
    "sample_df.head()"
   ]
  },
  {
   "cell_type": "code",
   "execution_count": 5,
   "metadata": {},
   "outputs": [],
   "source": [
    "y = sample_df.pop('target').astype(int).values\n",
    "X = sample_df.values"
   ]
  },
  {
   "cell_type": "markdown",
   "metadata": {},
   "source": [
    "## Fit a simple SVM Classifier"
   ]
  },
  {
   "cell_type": "code",
   "execution_count": 6,
   "metadata": {},
   "outputs": [],
   "source": [
    "def load_model(C=1):\n",
    "    model = svm.SVC(kernel='linear', C=C)\n",
    "    \n",
    "    return model"
   ]
  },
  {
   "cell_type": "code",
   "execution_count": 7,
   "metadata": {},
   "outputs": [],
   "source": [
    "def train_evaluate(model, X_train, y_train, X_test, y_test):\n",
    "    \n",
    "    model.fit(X_train, y_train)\n",
    "    \n",
    "    y_pred = model.predict(X_test)\n",
    "\n",
    "    return metrics.accuracy_score(y_test, y_pred)"
   ]
  },
  {
   "cell_type": "code",
   "execution_count": 8,
   "metadata": {},
   "outputs": [],
   "source": [
    "n_folds = 10"
   ]
  },
  {
   "cell_type": "code",
   "execution_count": 9,
   "metadata": {},
   "outputs": [],
   "source": [
    "kFold = StratifiedKFold(n_splits=n_folds)"
   ]
  },
  {
   "cell_type": "code",
   "execution_count": 10,
   "metadata": {},
   "outputs": [],
   "source": [
    "results = {}"
   ]
  },
  {
   "cell_type": "code",
   "execution_count": 11,
   "metadata": {},
   "outputs": [
    {
     "name": "stdout",
     "output_type": "stream",
     "text": [
      "Running fold 0... on model with param C = 0.01\n",
      "Running fold 1... on model with param C = 0.01\n",
      "Running fold 2... on model with param C = 0.01\n",
      "Running fold 3... on model with param C = 0.01\n",
      "Running fold 4... on model with param C = 0.01\n",
      "Running fold 5... on model with param C = 0.01\n",
      "Running fold 6... on model with param C = 0.01\n",
      "Running fold 7... on model with param C = 0.01\n",
      "Running fold 8... on model with param C = 0.01\n",
      "Running fold 9... on model with param C = 0.01\n",
      "Accuracy: 0.8000 (+/- 0.0000)\n",
      "Running fold 0... on model with param C = 0.1\n",
      "Running fold 1... on model with param C = 0.1\n",
      "Running fold 2... on model with param C = 0.1\n",
      "Running fold 3... on model with param C = 0.1\n",
      "Running fold 4... on model with param C = 0.1\n",
      "Running fold 5... on model with param C = 0.1\n",
      "Running fold 6... on model with param C = 0.1\n",
      "Running fold 7... on model with param C = 0.1\n",
      "Running fold 8... on model with param C = 0.1\n",
      "Running fold 9... on model with param C = 0.1\n",
      "Accuracy: 0.8222 (+/- 0.0000)\n",
      "Running fold 0... on model with param C = 1\n",
      "Running fold 1... on model with param C = 1\n",
      "Running fold 2... on model with param C = 1\n",
      "Running fold 3... on model with param C = 1\n",
      "Running fold 4... on model with param C = 1\n",
      "Running fold 5... on model with param C = 1\n",
      "Running fold 6... on model with param C = 1\n",
      "Running fold 7... on model with param C = 1\n",
      "Running fold 8... on model with param C = 1\n",
      "Running fold 9... on model with param C = 1\n",
      "Accuracy: 0.8222 (+/- 0.0000)\n",
      "Running fold 0... on model with param C = 100\n",
      "Running fold 1... on model with param C = 100\n",
      "Running fold 2... on model with param C = 100\n",
      "Running fold 3... on model with param C = 100\n",
      "Running fold 4... on model with param C = 100\n",
      "Running fold 5... on model with param C = 100\n",
      "Running fold 6... on model with param C = 100\n",
      "Running fold 7... on model with param C = 100\n",
      "Running fold 8... on model with param C = 100\n",
      "Running fold 9... on model with param C = 100\n",
      "Accuracy: 0.8222 (+/- 0.0000)\n",
      "Running fold 0... on model with param C = 1000\n",
      "Running fold 1... on model with param C = 1000\n",
      "Running fold 2... on model with param C = 1000\n",
      "Running fold 3... on model with param C = 1000\n",
      "Running fold 4... on model with param C = 1000\n",
      "Running fold 5... on model with param C = 1000\n",
      "Running fold 6... on model with param C = 1000\n",
      "Running fold 7... on model with param C = 1000\n",
      "Running fold 8... on model with param C = 1000\n",
      "Running fold 9... on model with param C = 1000\n",
      "Accuracy: 0.8222 (+/- 0.0000)\n",
      "Running fold 0... on model with param C = 10000\n",
      "Running fold 1... on model with param C = 10000\n",
      "Running fold 2... on model with param C = 10000\n",
      "Running fold 3... on model with param C = 10000\n",
      "Running fold 4... on model with param C = 10000\n",
      "Running fold 5... on model with param C = 10000\n",
      "Running fold 6... on model with param C = 10000\n",
      "Running fold 7... on model with param C = 10000\n",
      "Running fold 8... on model with param C = 10000\n",
      "Running fold 9... on model with param C = 10000\n",
      "Accuracy: 0.8222 (+/- 0.0000)\n"
     ]
    }
   ],
   "source": [
    "for C in [0.01, 0.1, 1, 100, 1000, 10000]:\n",
    "    \n",
    "    for i, (train, test) in enumerate(kFold.split(X, y)):\n",
    "        scores = []\n",
    "        print(f'Running fold {i}... on model with param C = {C}')\n",
    "        model = load_model(C)\n",
    "        acc = train_evaluate(model, X[train], y[train], X[test], y[test])\n",
    "        scores.append(acc)\n",
    "\n",
    "        scores = np.array(scores)\n",
    "\n",
    "    print(f\"Accuracy: {scores.mean():.4f} (+/- {scores.std():.4f})\")\n",
    "    results[C] = scores.mean()"
   ]
  },
  {
   "cell_type": "code",
   "execution_count": 12,
   "metadata": {},
   "outputs": [
    {
     "data": {
      "text/plain": [
       "{0.01: 0.8,\n",
       " 0.1: 0.8222222222222222,\n",
       " 1: 0.8222222222222222,\n",
       " 100: 0.8222222222222222,\n",
       " 1000: 0.8222222222222222,\n",
       " 10000: 0.8222222222222222}"
      ]
     },
     "execution_count": 12,
     "metadata": {},
     "output_type": "execute_result"
    }
   ],
   "source": [
    "results"
   ]
  },
  {
   "cell_type": "code",
   "execution_count": null,
   "metadata": {},
   "outputs": [],
   "source": []
  },
  {
   "cell_type": "markdown",
   "metadata": {},
   "source": [
    "## Data Augmentation"
   ]
  },
  {
   "cell_type": "code",
   "execution_count": 13,
   "metadata": {},
   "outputs": [],
   "source": [
    "def augment_fold(X, y, aug_factor=5):\n",
    "    from keras.preprocessing.image import ImageDataGenerator\n",
    "    \n",
    "    image_generator = ImageDataGenerator(width_shift_range=0.1)\n",
    "    \n",
    "    image_generator.fit(X.reshape(-1, 28, 28, 1), augment=True)\n",
    "    \n",
    "    np_iter = image_generator.flow(X.reshape(-1, 28, 28, 1), y, batch_size=500)\n",
    "    \n",
    "    X_aug_lst = [X]\n",
    "    y_aug_lst = [y]\n",
    "    \n",
    "    for i in range(aug_factor):\n",
    "        X_temp, y_temp = np_iter.next()\n",
    "        X_temp = X_temp.reshape(len(X_temp), -1)\n",
    "        X_aug_lst.append(X_temp)\n",
    "        y_aug_lst.append(y_temp)\n",
    "        \n",
    "    X_aug = np.vstack(X_aug_lst)\n",
    "    y_aug = np.concatenate(y_aug_lst)\n",
    "    \n",
    "    assert X_aug.shape[0] == y_aug.shape[0], f\"X_aug and y_aug shapes mismatch {X_aug.shape[0]} - {y_aug.shape[0]}\"\n",
    "    \n",
    "    X_aug = np.vstack(X_aug_lst)\n",
    "    y_aug = np.concatenate(y_aug_lst)\n",
    "    \n",
    "    return X_aug, y_aug"
   ]
  },
  {
   "cell_type": "code",
   "execution_count": 14,
   "metadata": {},
   "outputs": [],
   "source": [
    "n_folds = 10"
   ]
  },
  {
   "cell_type": "code",
   "execution_count": 15,
   "metadata": {},
   "outputs": [],
   "source": [
    "kFold = StratifiedKFold(n_splits=n_folds)"
   ]
  },
  {
   "cell_type": "code",
   "execution_count": 16,
   "metadata": {},
   "outputs": [],
   "source": [
    "results = {}"
   ]
  },
  {
   "cell_type": "code",
   "execution_count": 17,
   "metadata": {},
   "outputs": [
    {
     "name": "stderr",
     "output_type": "stream",
     "text": [
      "Using TensorFlow backend.\n",
      "/home/miguel/.pyenv/versions/3.6.5/lib/python3.6/importlib/_bootstrap.py:219: RuntimeWarning: compiletime version 3.5 of module 'tensorflow.python.framework.fast_tensor_util' does not match runtime version 3.6\n",
      "  return f(*args, **kwds)\n"
     ]
    }
   ],
   "source": [
    "X_a, y_a = augment_fold(X, y, aug_factor=4)"
   ]
  },
  {
   "cell_type": "code",
   "execution_count": 18,
   "metadata": {
    "scrolled": true
   },
   "outputs": [
    {
     "name": "stdout",
     "output_type": "stream",
     "text": [
      "Running fold 0... on model with param C = 0.01\n",
      "Running fold 1... on model with param C = 0.01\n",
      "Running fold 2... on model with param C = 0.01\n",
      "Running fold 3... on model with param C = 0.01\n",
      "Running fold 4... on model with param C = 0.01\n",
      "Running fold 5... on model with param C = 0.01\n",
      "Running fold 6... on model with param C = 0.01\n",
      "Running fold 7... on model with param C = 0.01\n",
      "Running fold 8... on model with param C = 0.01\n",
      "Running fold 9... on model with param C = 0.01\n",
      "Accuracy: 0.8866 (+/- 0.0000)\n",
      "Running fold 0... on model with param C = 0.1\n",
      "Running fold 1... on model with param C = 0.1\n",
      "Running fold 2... on model with param C = 0.1\n",
      "Running fold 3... on model with param C = 0.1\n",
      "Running fold 4... on model with param C = 0.1\n",
      "Running fold 5... on model with param C = 0.1\n",
      "Running fold 6... on model with param C = 0.1\n",
      "Running fold 7... on model with param C = 0.1\n",
      "Running fold 8... on model with param C = 0.1\n",
      "Running fold 9... on model with param C = 0.1\n",
      "Accuracy: 0.9717 (+/- 0.0000)\n",
      "Running fold 0... on model with param C = 1\n",
      "Running fold 1... on model with param C = 1\n",
      "Running fold 2... on model with param C = 1\n",
      "Running fold 3... on model with param C = 1\n",
      "Running fold 4... on model with param C = 1\n",
      "Running fold 5... on model with param C = 1\n",
      "Running fold 6... on model with param C = 1\n",
      "Running fold 7... on model with param C = 1\n",
      "Running fold 8... on model with param C = 1\n",
      "Running fold 9... on model with param C = 1\n",
      "Accuracy: 0.9757 (+/- 0.0000)\n",
      "Running fold 0... on model with param C = 100\n",
      "Running fold 1... on model with param C = 100\n",
      "Running fold 2... on model with param C = 100\n",
      "Running fold 3... on model with param C = 100\n",
      "Running fold 4... on model with param C = 100\n",
      "Running fold 5... on model with param C = 100\n",
      "Running fold 6... on model with param C = 100\n",
      "Running fold 7... on model with param C = 100\n",
      "Running fold 8... on model with param C = 100\n",
      "Running fold 9... on model with param C = 100\n",
      "Accuracy: 0.9757 (+/- 0.0000)\n",
      "Running fold 0... on model with param C = 1000\n",
      "Running fold 1... on model with param C = 1000\n",
      "Running fold 2... on model with param C = 1000\n",
      "Running fold 3... on model with param C = 1000\n",
      "Running fold 4... on model with param C = 1000\n",
      "Running fold 5... on model with param C = 1000\n",
      "Running fold 6... on model with param C = 1000\n",
      "Running fold 7... on model with param C = 1000\n",
      "Running fold 8... on model with param C = 1000\n",
      "Running fold 9... on model with param C = 1000\n",
      "Accuracy: 0.9757 (+/- 0.0000)\n",
      "Running fold 0... on model with param C = 10000\n",
      "Running fold 1... on model with param C = 10000\n",
      "Running fold 2... on model with param C = 10000\n",
      "Running fold 3... on model with param C = 10000\n",
      "Running fold 4... on model with param C = 10000\n",
      "Running fold 5... on model with param C = 10000\n",
      "Running fold 6... on model with param C = 10000\n",
      "Running fold 7... on model with param C = 10000\n",
      "Running fold 8... on model with param C = 10000\n",
      "Running fold 9... on model with param C = 10000\n",
      "Accuracy: 0.9757 (+/- 0.0000)\n"
     ]
    }
   ],
   "source": [
    "for C in [0.01, 0.1, 1, 100, 1000, 10000]:\n",
    "    \n",
    "    for i, (train, test) in enumerate(kFold.split(X_a, y_a)):\n",
    "        scores = []\n",
    "        print(f'Running fold {i}... on model with param C = {C}')\n",
    "        model = load_model(C)\n",
    "#         X_aug, y_aug = augment_fold(X[train], y[train], aug_factor=4)\n",
    "        acc = train_evaluate(model, X_a[train], y_a[train], X_a[test], y_a[test])\n",
    "        scores.append(acc)\n",
    "\n",
    "        scores = np.array(scores)\n",
    "\n",
    "    print(f\"Accuracy: {scores.mean():.4f} (+/- {scores.std():.4f})\")\n",
    "    results[C] = scores.mean()"
   ]
  },
  {
   "cell_type": "code",
   "execution_count": 19,
   "metadata": {},
   "outputs": [
    {
     "data": {
      "text/plain": [
       "{0.01: 0.8866396761133604,\n",
       " 0.1: 0.97165991902834,\n",
       " 1: 0.9757085020242915,\n",
       " 100: 0.9757085020242915,\n",
       " 1000: 0.9757085020242915,\n",
       " 10000: 0.9757085020242915}"
      ]
     },
     "execution_count": 19,
     "metadata": {},
     "output_type": "execute_result"
    }
   ],
   "source": [
    "results"
   ]
  },
  {
   "cell_type": "markdown",
   "metadata": {},
   "source": [
    "### Train"
   ]
  },
  {
   "cell_type": "code",
   "execution_count": 20,
   "metadata": {},
   "outputs": [],
   "source": [
    "from sklearn.externals import joblib"
   ]
  },
  {
   "cell_type": "code",
   "execution_count": 21,
   "metadata": {},
   "outputs": [],
   "source": [
    "model = load_model()"
   ]
  },
  {
   "cell_type": "code",
   "execution_count": 22,
   "metadata": {},
   "outputs": [
    {
     "data": {
      "text/plain": [
       "SVC(C=1, cache_size=200, class_weight=None, coef0=0.0,\n",
       "  decision_function_shape='ovr', degree=3, gamma='auto_deprecated',\n",
       "  kernel='linear', max_iter=-1, probability=False, random_state=None,\n",
       "  shrinking=True, tol=0.001, verbose=False)"
      ]
     },
     "execution_count": 22,
     "metadata": {},
     "output_type": "execute_result"
    }
   ],
   "source": [
    "model.fit(X_a, y_a)"
   ]
  },
  {
   "cell_type": "code",
   "execution_count": 23,
   "metadata": {},
   "outputs": [
    {
     "data": {
      "text/plain": [
       "['svm_v1.pkl']"
      ]
     },
     "execution_count": 23,
     "metadata": {},
     "output_type": "execute_result"
    }
   ],
   "source": [
    "joblib.dump(model, 'svm_v1.pkl') "
   ]
  },
  {
   "cell_type": "code",
   "execution_count": 24,
   "metadata": {},
   "outputs": [
    {
     "data": {
      "text/plain": [
       "(500, 784)"
      ]
     },
     "execution_count": 24,
     "metadata": {},
     "output_type": "execute_result"
    }
   ],
   "source": [
    "X.shape"
   ]
  },
  {
   "cell_type": "code",
   "execution_count": 25,
   "metadata": {},
   "outputs": [
    {
     "data": {
      "text/plain": [
       "array([8])"
      ]
     },
     "execution_count": 25,
     "metadata": {},
     "output_type": "execute_result"
    }
   ],
   "source": [
    "model.predict([X[0]])"
   ]
  }
 ],
 "metadata": {
  "kernelspec": {
   "display_name": "Python 3",
   "language": "python",
   "name": "python3"
  },
  "language_info": {
   "codemirror_mode": {
    "name": "ipython",
    "version": 3
   },
   "file_extension": ".py",
   "mimetype": "text/x-python",
   "name": "python",
   "nbconvert_exporter": "python",
   "pygments_lexer": "ipython3",
   "version": "3.6.5"
  }
 },
 "nbformat": 4,
 "nbformat_minor": 2
}
